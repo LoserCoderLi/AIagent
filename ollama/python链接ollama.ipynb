{
 "cells": [
  {
   "cell_type": "code",
   "execution_count": 4,
   "metadata": {},
   "outputs": [
    {
     "name": "stdout",
     "output_type": "stream",
     "text": [
      "请求失败，状态码: 405\n"
     ]
    }
   ],
   "source": [
    "import requests\n",
    "\n",
    "# 虚拟机的 IP 地址\n",
    "vm_ip = \"172.17.15.87\"\n",
    "\n",
    "# 构建请求 URL\n",
    "url = f\"http://{vm_ip}:3000\"\n",
    "\n",
    "# 构建请求数据\n",
    "data = {\n",
    "    \"model\": \"qwen2:0.5b\",\n",
    "    \"prompt\": \"你好\"\n",
    "}\n",
    "\n",
    "# 发送 POST 请求\n",
    "response = requests.post(url, json=data)\n",
    "\n",
    "# 打印生成的文本\n",
    "if response.status_code == 200:\n",
    "    generated_text = response.json().get(\"text\")\n",
    "    print(generated_text)\n",
    "else:\n",
    "    print(f\"请求失败，状态码: {response.status_code}\")\n"
   ]
  }
 ],
 "metadata": {
  "kernelspec": {
   "display_name": "demo",
   "language": "python",
   "name": "python3"
  },
  "language_info": {
   "codemirror_mode": {
    "name": "ipython",
    "version": 3
   },
   "file_extension": ".py",
   "mimetype": "text/x-python",
   "name": "python",
   "nbconvert_exporter": "python",
   "pygments_lexer": "ipython3",
   "version": "3.10.3"
  }
 },
 "nbformat": 4,
 "nbformat_minor": 2
}
