{
 "cells": [
  {
   "cell_type": "markdown",
   "metadata": {},
   "source": [
    "#  Transformation部件传递"
   ]
  },
  {
   "cell_type": "markdown",
   "metadata": {},
   "source": [
    "## 源码分析"
   ]
  },
  {
   "cell_type": "markdown",
   "metadata": {},
   "source": [
    "### 类的定义"
   ]
  },
  {
   "cell_type": "code",
   "execution_count": null,
   "metadata": {},
   "outputs": [],
   "source": [
    "class TransformChain(Chain):\n",
    "    \"\"\"Chain that transforms the chain output.\n",
    "\n",
    "    Example:\n",
    "        .. code-block:: python\n",
    "\n",
    "            from langchain.chains import TransformChain\n",
    "            transform_chain = TransformChain(input_variables=[\"text\"],\n",
    "             output_variables[\"entities\"], transform=func())\n",
    "    \"\"\""
   ]
  },
  {
   "cell_type": "markdown",
   "metadata": {},
   "source": [
    "`TransformChain` 是什么？\n",
    "- `TransformChain` 是一个继承自 `Chain` 的类，主要目的是在链式调用中对数据进行转换处理。\n",
    "- 它的基本功能是：接受一些输入，经过一个转换函数（同步或异步）处理后，输出新的数据。\n",
    "- 这个类特别适合用在需要对数据进行某种转换或处理的场景下，作为其他链的辅助部分。"
   ]
  },
  {
   "cell_type": "markdown",
   "metadata": {},
   "source": [
    "### 属性定义"
   ]
  },
  {
   "cell_type": "code",
   "execution_count": null,
   "metadata": {},
   "outputs": [],
   "source": [
    "    input_variables: List[str]\n",
    "    \"\"\"The keys expected by the transform's input dictionary.\"\"\"\n",
    "    \n",
    "    output_variables: List[str]\n",
    "    \"\"\"The keys returned by the transform's output dictionary.\"\"\"\n",
    "    \n",
    "    transform_cb: Callable[[Dict[str, str]], Dict[str, str]] = Field(alias=\"transform\")\n",
    "    \"\"\"The transform function.\"\"\"\n",
    "    \n",
    "    atransform_cb: Optional[Callable[[Dict[str, Any]], Awaitable[Dict[str, Any]]]] = (\n",
    "        Field(None, alias=\"atransform\")\n",
    "    )\n",
    "    \"\"\"The async coroutine transform function.\"\"\""
   ]
  },
  {
   "cell_type": "markdown",
   "metadata": {},
   "source": [
    "`input_variables`\n",
    "- 定义：`input_variables` 是一个字符串列表，表示 `TransformChain` 期望从输入字典中接收哪些键。\n",
    "- 用途：在链式调用中，输入的数据通常是一个字典。`input_variables` 用来指定这个字典中哪些键是 `TransformChain` 需要处理的。比如，如果 `input_variables` 包含 `\"text\"`，那么输入字典中必须有一个 `\"text\"` 键，其对应的值将被传递给 `TransformChain` 进行处理。\n",
    "\n",
    "`output_variables`\n",
    "- 定义：`output_variables` 是一个字符串列表，表示 `TransformChain` 将返回哪些键。\n",
    "- 用途：这告诉调用者，`TransformChain` 将会输出一个字典，这个字典包含的键是 `output_variables` 中指定的键。比如，如果 `output_variables` 包含 `\"entities\"`，那么 `TransformChain` 的输出字典中将有一个 `\"entities\"` 键。\n",
    "\n",
    "`transform_cb`\n",
    "- 定义：`transform_cb` 是一个同步的回调函数，用于将输入字典转换为输出字典。\n",
    "- 类型：它是一个接受 `Dict[str, str]` 类型的输入并返回 `Dict[str, str]` 类型输出的函数。这个函数由用户提供，用于对输入数据进行处理。\n",
    "- 用途：`transform_cb` 是 `TransformChain` 的核心功能，它实现了输入到输出的转换逻辑。\n",
    "\n",
    "`atransform_cb`\n",
    "- 定义：`atransform_cb` 是一个可选的异步回调函数，用于异步转换输入字典为输出字典。\n",
    "- 类型：它是一个接受 `Dict[str, Any]` 类型的输入并返回 `Awaitable[Dict[str, Any]]` 类型输出的异步函数。\n",
    "- 用途：在需要异步处理的场景中，`atransform_cb` 提供了异步版本的转换逻辑。如果没有提供异步函数，代码会回退到同步的 `transform_cb`。"
   ]
  },
  {
   "cell_type": "markdown",
   "metadata": {},
   "source": [
    "### 静态方法`_log_once`"
   ]
  },
  {
   "cell_type": "code",
   "execution_count": 1,
   "metadata": {},
   "outputs": [],
   "source": [
    "    @staticmethod\n",
    "    @functools.lru_cache\n",
    "    def _log_once(msg: str) -> None:\n",
    "        \"\"\"Log a message once.\n",
    "\n",
    "        :meta private:\n",
    "        \"\"\"\n",
    "        logger.warning(msg)"
   ]
  },
  {
   "cell_type": "markdown",
   "metadata": {},
   "source": [
    "- 功能：这个方法用来记录一次性警告消息，确保同样的警告不会重复记录多次。\n",
    "- 实现：通过 `functools.lru_cache` 装饰器，确保相同的消息只会被记录一次。这在性能上比较友好，避免了冗余日志。\n",
    "- 用途：当 `atransform_cb` 未提供时，代码会回退到同步的 `transform_cb` 并记录一次警告消息。"
   ]
  },
  {
   "cell_type": "markdown",
   "metadata": {},
   "source": [
    "### 属性方法 `input_keys` 和 `output_keys`"
   ]
  },
  {
   "cell_type": "code",
   "execution_count": null,
   "metadata": {},
   "outputs": [],
   "source": [
    "    @property\n",
    "    def input_keys(self) -> List[str]:\n",
    "        \"\"\"Expect input keys.\n",
    "\n",
    "        :meta private:\n",
    "        \"\"\"\n",
    "        return self.input_variables\n",
    "\n",
    "    @property\n",
    "    def output_keys(self) -> List[str]:\n",
    "        \"\"\"Return output keys.\n",
    "\n",
    "        :meta private:\n",
    "        \"\"\"\n",
    "        return self.output_variables"
   ]
  },
  {
   "cell_type": "markdown",
   "metadata": {},
   "source": [
    "- `input_keys`：\n",
    "  - 返回 `input_variables`，即该链期望的输入键。这些键是在链的执行过程中从输入数据字典中提取出来的。\n",
    "- `output_keys`：\n",
    "  - 返回 `output_variables`，即该链期望的输出键。这些键是链在执行完转换函数后返回的数据字典中的键。"
   ]
  },
  {
   "cell_type": "markdown",
   "metadata": {},
   "source": [
    "### 同步方法`_call`"
   ]
  },
  {
   "cell_type": "code",
   "execution_count": null,
   "metadata": {},
   "outputs": [],
   "source": [
    "    def _call(\n",
    "        self,\n",
    "        inputs: Dict[str, str],\n",
    "        run_manager: Optional[CallbackManagerForChainRun] = None,\n",
    "    ) -> Dict[str, str]:\n",
    "        return self.transform_cb(inputs)"
   ]
  },
  {
   "cell_type": "markdown",
   "metadata": {},
   "source": [
    "- 功能：这是链的同步调用方法。\n",
    "- 参数：\n",
    "  - `inputs`: 一个字典，包含链的输入数据。字典的键应与 `input_variables` 中定义的键一致。\n",
    "  - `run_manager`: 可选的回调管理器，用于处理链执行期间的回调事件。\n",
    "- 实现：直接调用 `transform_cb`（同步转换函数）处理输入数据，并返回转换后的结果。"
   ]
  },
  {
   "cell_type": "markdown",
   "metadata": {},
   "source": [
    "### 异步方法`_acall`"
   ]
  },
  {
   "cell_type": "code",
   "execution_count": 2,
   "metadata": {},
   "outputs": [],
   "source": [
    "    async def _acall(\n",
    "        self,\n",
    "        inputs: Dict[str, Any],\n",
    "        run_manager: Optional[AsyncCallbackManagerForChainRun] = None,\n",
    "    ) -> Dict[str, Any]:\n",
    "        if self.atransform_cb is not None:\n",
    "            return await self.atransform_cb(inputs)\n",
    "        else:\n",
    "            self._log_once(\n",
    "                \"TransformChain's atransform is not provided, falling\"\n",
    "                \" back to synchronous transform\"\n",
    "            )\n",
    "            return self.transform_cb(inputs)"
   ]
  },
  {
   "cell_type": "markdown",
   "metadata": {},
   "source": [
    "- 功能：这是链的异步调用方法。\n",
    "- 参数：\n",
    "  - `inputs`: 一个字典，包含链的输入数据。字典的键应与 `input_variables` 中定义的键一致。\n",
    "  - `run_manager`: 可选的异步回调管理器，用于处理链执行期间的异步回调事件。\n",
    "- 实现：\n",
    "  - 如果 `atransform_cb`（异步转换函数）存在，则异步调用它处理输入数据，并返回转换后的结果。\n",
    "  - 如果 `atransform_cb` 不存在，则记录一次警告消息，并回退到调用同步的 `transform_cb` 处理输入数据。"
   ]
  },
  {
   "cell_type": "markdown",
   "metadata": {},
   "source": [
    "## demo"
   ]
  },
  {
   "cell_type": "code",
   "execution_count": 11,
   "metadata": {},
   "outputs": [
    {
     "name": "stdout",
     "output_type": "stream",
     "text": [
      "TTWHHHH\n"
     ]
    }
   ],
   "source": [
    "from langchain.chains.transform import TransformChain\n",
    "from typing import Dict\n",
    "from langchain.chains.sequential import SimpleSequentialChain\n",
    "\n",
    "# 第一步：提取所有大写字母\n",
    "def extract_uppercase_letters(inputs: Dict[str, str]) -> Dict[str, str]:\n",
    "    text = inputs[\"text\"]\n",
    "    uppercase_letters = ''.join([char for char in text if char.isupper()])\n",
    "    return {\"uppercase_letters\": uppercase_letters}\n",
    "\n",
    "# 第二步：移除所有元音字母（针对小写和大写）\n",
    "def remove_vowels(inputs: Dict[str, str]) -> Dict[str, str]:\n",
    "    text = inputs[\"text\"]\n",
    "    vowels = \"AEIOUaeiou\"\n",
    "    text_without_vowels = ''.join([char for char in text if char not in vowels])\n",
    "    return {\"text_without_vowels\": text_without_vowels}\n",
    "\n",
    "# 第三步：逆序排列字符\n",
    "def reverse_text(inputs: Dict[str, str]) -> Dict[str, str]:\n",
    "    text = inputs[\"text\"]\n",
    "    reversed_text = text[::-1]\n",
    "    return {\"reversed_text\": reversed_text}\n",
    "\n",
    "# 创建 TransformChain 实例\n",
    "uppercase_chain = TransformChain(\n",
    "    input_variables=[\"text\"],\n",
    "    output_variables=[\"uppercase_letters\"],\n",
    "    transform=extract_uppercase_letters\n",
    ")\n",
    "\n",
    "remove_vowels_chain = TransformChain(\n",
    "    input_variables=[\"text\"],\n",
    "    output_variables=[\"text_without_vowels\"],\n",
    "    transform=remove_vowels\n",
    ")\n",
    "\n",
    "reverse_chain = TransformChain(\n",
    "    input_variables=[\"text\"],\n",
    "    output_variables=[\"reversed_text\"],\n",
    "    transform=reverse_text\n",
    ")\n",
    "\n",
    "# 将多个链连接成一个顺序链\n",
    "sequential_chain = SimpleSequentialChain(\n",
    "    chains=[uppercase_chain, remove_vowels_chain, reverse_chain],\n",
    "    input_key=\"text\",\n",
    "    output_key=\"final_output\"\n",
    ")\n",
    "\n",
    "# 使用顺序链处理输入数据\n",
    "input_data = {\"text\": \"Hello HHHWorasfdsafld! This is a Test.\"}\n",
    "output_data = sequential_chain.run(input_data)\n",
    "\n",
    "# 输出结果\n",
    "print(output_data)  # 输出: {'final_output': 'stT s sThT'}\n"
   ]
  }
 ],
 "metadata": {
  "kernelspec": {
   "display_name": "demo",
   "language": "python",
   "name": "python3"
  },
  "language_info": {
   "codemirror_mode": {
    "name": "ipython",
    "version": 3
   },
   "file_extension": ".py",
   "mimetype": "text/x-python",
   "name": "python",
   "nbconvert_exporter": "python",
   "pygments_lexer": "ipython3",
   "version": "3.10.3"
  }
 },
 "nbformat": 4,
 "nbformat_minor": 2
}
