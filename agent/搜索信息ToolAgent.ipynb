{
 "cells": [
  {
   "cell_type": "code",
   "execution_count": 1,
   "metadata": {},
   "outputs": [],
   "source": [
    "import requests\n",
    "from langchain.tools import tool\n",
    "import os\n",
    "# serp_api_key = os.getenv(\"KEY_SEARCH\") #搜索平台Serp的API KEY\n",
    "serp_api_key = '************************'\n",
    "os.environ[\"SERPAPI_API_KEY\"] = serp_api_key\n",
    "@tool\n",
    "def google_news_search(query: str) -> str:\n",
    "    \"\"\"\n",
    "    搜索实时信息时使用这个工具。\n",
    "    \"\"\"\n",
    "    \n",
    "    url = f\"https://api.baidu.com/json/v1/news/search?q={query}&apikey={serp_api_key}\"\n",
    "\n",
    "    response = requests.get(url)\n",
    "    if response.status_code != 200:\n",
    "        return f\"请求失败，状态码: {response.status_code}\"\n",
    "\n",
    "    data = response.json()\n",
    "    if \"articles\" not in data or len(data[\"articles\"]) == 0:\n",
    "        return \"未找到相关信息。\"\n",
    "\n",
    "    # 获取前几个新闻标题\n",
    "    headlines = [article[\"title\"] for article in data[\"articles\"][:5]]\n",
    "    return \"\\n\".join(headlines)\n"
   ]
  },
  {
   "cell_type": "code",
   "execution_count": 2,
   "metadata": {},
   "outputs": [
    {
     "name": "stderr",
     "output_type": "stream",
     "text": [
      "e:\\AAAAWork\\python\\LLM_RAG\\demo\\lib\\site-packages\\langchain_core\\_api\\deprecation.py:141: LangChainDeprecationWarning: The function `initialize_agent` was deprecated in LangChain 0.1.0 and will be removed in 1.0. Use Use new agent constructor methods like create_react_agent, create_json_agent, create_structured_chat_agent, etc. instead.\n",
      "  warn_deprecated(\n",
      "e:\\AAAAWork\\python\\LLM_RAG\\demo\\lib\\site-packages\\langchain_core\\_api\\deprecation.py:141: LangChainDeprecationWarning: The method `Chain.run` was deprecated in langchain 0.1.0 and will be removed in 1.0. Use invoke instead.\n",
      "  warn_deprecated(\n"
     ]
    },
    {
     "name": "stdout",
     "output_type": "stream",
     "text": [
      "\n",
      "\n",
      "\u001b[1m> Entering new AgentExecutor chain...\u001b[0m\n",
      "\u001b[32;1m\u001b[1;3m我需要查询成都当前的天气预报，使用搜索工具可能更好。\n",
      "Action: Search\n",
      "Action Input: 成都当前天气预报\u001b[0m\n",
      "Observation: \u001b[36;1m\u001b[1;3m{'type': 'weather_result', 'temperature': '92', 'unit': 'Fahrenheit', 'precipitation': '0%', 'humidity': '51%', 'wind': '4 mph', 'location': '中国四川省成都市', 'date': 'Monday 5:00 PM', 'weather': 'Cloudy'}\u001b[0m\n",
      "Thought:if isinstance(next_step_output, AgentFinish): return_values={'output': '成都当前的天气预报如下：温度为92华氏度，无降水，湿度为51%，风速为4英里/小时。天气状况为多云。观测时间：周一 下午5:00。'} log='我找到了成都当前的天气预报，包括温度、降水量、湿度和风速等信息。\\nFinal Answer: 成都当前的天气预报如下：温度为92华氏度，无降水，湿度为51%，风速为4英里/小时。天气状况为多云。观测时间：周一 下午5:00。'\n",
      "\u001b[32;1m\u001b[1;3m我找到了成都当前的天气预报，包括温度、降水量、湿度和风速等信息。\n",
      "Final Answer: 成都当前的天气预报如下：温度为92华氏度，无降水，湿度为51%，风速为4英里/小时。天气状况为多云。观测时间：周一 下午5:00。\u001b[0m\n",
      "\n",
      "\u001b[1m> Finished chain.\u001b[0m\n"
     ]
    },
    {
     "data": {
      "text/plain": [
       "'成都当前的天气预报如下：温度为92华氏度，无降水，湿度为51%，风速为4英里/小时。天气状况为多云。观测时间：周一 下午5:00。'"
      ]
     },
     "execution_count": 2,
     "metadata": {},
     "output_type": "execute_result"
    }
   ],
   "source": [
    "from langchain_community.chat_models.tongyi import ChatTongyi\n",
    "from langchain.agents import initialize_agent, AgentType\n",
    "from langchain_community.agent_toolkits.load_tools import load_tools\n",
    "import os\n",
    "\n",
    "# 初始化Tongyi模型\n",
    "api_key = os.getenv(\"KEY_TONGYI\")\n",
    "llm = ChatTongyi(\n",
    "    dashscope_api_key=api_key,\n",
    "    temperature=0\n",
    ")\n",
    "\n",
    "# 加载其他工具\n",
    "tools = load_tools([\"serpapi\", \"llm-math\"], llm)\n",
    "\n",
    "# 添加谷歌新闻搜索工具\n",
    "tools.append(google_news_search)\n",
    "\n",
    "# 初始化代理\n",
    "agent = initialize_agent(\n",
    "    tools=tools,\n",
    "    llm=llm,\n",
    "    agent=AgentType.ZERO_SHOT_REACT_DESCRIPTION,\n",
    "    verbose=True\n",
    ")\n",
    "\n",
    "# 调用代理执行任务\n",
    "agent.run(\"当前中国成都的天气预报\")\n"
   ]
  }
 ],
 "metadata": {
  "kernelspec": {
   "display_name": "demo",
   "language": "python",
   "name": "python3"
  },
  "language_info": {
   "codemirror_mode": {
    "name": "ipython",
    "version": 3
   },
   "file_extension": ".py",
   "mimetype": "text/x-python",
   "name": "python",
   "nbconvert_exporter": "python",
   "pygments_lexer": "ipython3",
   "version": "3.10.3"
  }
 },
 "nbformat": 4,
 "nbformat_minor": 2
}
