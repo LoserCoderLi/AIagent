{
 "cells": [
  {
   "cell_type": "code",
   "execution_count": 10,
   "metadata": {},
   "outputs": [],
   "source": [
    "from langchain.tools import Tool\n",
    "from langchain.agents import initialize_agent, AgentType\n",
    "from langchain_community.chat_models.tongyi import ChatTongyi\n",
    "from langchain_community.agent_toolkits.load_tools import load_tools\n",
    "import os\n",
    "from langchain.tools import tool\n",
    "import requests\n",
    "from langchain.prompts import PromptTemplate\n"
   ]
  },
  {
   "cell_type": "code",
   "execution_count": 6,
   "metadata": {},
   "outputs": [],
   "source": [
    "tongyi_api = os.getenv(\"KEY_TONGYI\")\n",
    "\n",
    "# 定义通译大模型\n",
    "llm = ChatTongyi(\n",
    "  dashscope_api_key=tongyi_api,\n",
    "  temperature=0\n",
    ")"
   ]
  },
  {
   "cell_type": "code",
   "execution_count": 7,
   "metadata": {},
   "outputs": [],
   "source": [
    "# 定义查询工具API\n",
    "search_api = os.getenv(\"KEY_SEARCH\")\n",
    "os.environ[\"SERPAPI_API_KEY\"] = search_api\n"
   ]
  },
  {
   "cell_type": "code",
   "execution_count": 8,
   "metadata": {},
   "outputs": [],
   "source": [
    "# 定义工具\n",
    "@tool\n",
    "def search_realtime_inf(query: str) -> str:\n",
    "    '''\n",
    "    查询实时信息，适用于搜索最新的新闻、事件或其他实时数据。\n",
    "    '''\n",
    "    url = f\"https://api.baidu.com/json/v1/search?q={query}&apikey={search_api}\"\n",
    "\n",
    "    response = requests.get(url)\n",
    "    if response.status_code != 200:\n",
    "        return f\"请求失败，状态码: {response.status_code}\"\n",
    "\n",
    "    data = response.json()\n",
    "    if \"results\" not in data or len(data[\"results\"]) == 0:\n",
    "        return \"未找到相关信息。\"\n",
    "\n",
    "    # 获取前几个信息\n",
    "    items = [result[\"title\"] for result in data[\"results\"][:5]]\n",
    "    return \"\\n\".join(items)\n"
   ]
  },
  {
   "cell_type": "code",
   "execution_count": null,
   "metadata": {},
   "outputs": [],
   "source": [
    "# 定义编写数学题目的chain\n",
    "matchmd_description_template = PromptTemplate(\n",
    "  \n",
    ")"
   ]
  }
 ],
 "metadata": {
  "kernelspec": {
   "display_name": "demo",
   "language": "python",
   "name": "python3"
  },
  "language_info": {
   "codemirror_mode": {
    "name": "ipython",
    "version": 3
   },
   "file_extension": ".py",
   "mimetype": "text/x-python",
   "name": "python",
   "nbconvert_exporter": "python",
   "pygments_lexer": "ipython3",
   "version": "3.10.3"
  }
 },
 "nbformat": 4,
 "nbformat_minor": 2
}
