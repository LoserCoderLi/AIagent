{
 "cells": [
  {
   "cell_type": "code",
   "execution_count": null,
   "metadata": {},
   "outputs": [],
   "source": [
    "import sys\n",
    "from langchain_community.chat_models import ChatTongyi\n",
    "import os"
   ]
  },
  {
   "cell_type": "code",
   "execution_count": null,
   "metadata": {},
   "outputs": [],
   "source": [
    "\n",
    "# 从环境变量中获取API密钥，用于初始化 ChatTongyi 模型\n",
    "api_key = os.getenv(\"KEY_TONGYI\")\n",
    "if not api_key:\n",
    "    raise ValueError(\"API Key is not set. Please ensure that the 'KEY_TONGYI' environment variable is set.\")\n",
    "\n",
    "\n",
    "# # 打印并设置Tika服务器的路径，使用本地运行的 Tika Server 解析文件\n",
    "# print(os.path.abspath('./template/tika-server-standard-2.6.0.jar'))\n",
    "# os.environ['TIKA_SERVER_JAR'] = 'http://localhost:9998/'\n",
    "\n",
    "\n",
    "# 初始化 ChatTongyi 模型，设置文本生成的温度参数，温度越低生成的文本越接近输入\n",
    "llm = ChatTongyi(\n",
    "    dashscope_api_key=api_key,\n",
    "    temperature=0,  # 设置生成文本的倾向，值越小生成的文本越接近输入\n",
    "    streaming=True\n",
    ")\n",
    "\n",
    "question = [\n",
    "    (\"system\", \"你是一名专业的诗人\"),\n",
    "    (\"human\", \"写一篇生日快乐的祝福\"),\n",
    "]\n",
    "\n",
    "# response = llm.invoke(\"你好？\")\n",
    "\n",
    "# 逐步接收并输出响应\n",
    "for chunk in llm.stream(question):\n",
    "    sys.stdout.write(chunk.content)  # 逐步输出内容块，不换行\n",
    "    sys.stdout.flush()  # 刷新输出缓冲区，确保内容立即显示\n"
   ]
  }
 ],
 "metadata": {
  "kernelspec": {
   "display_name": "demo",
   "language": "python",
   "name": "python3"
  },
  "language_info": {
   "name": "python",
   "version": "3.10.3"
  }
 },
 "nbformat": 4,
 "nbformat_minor": 2
}
