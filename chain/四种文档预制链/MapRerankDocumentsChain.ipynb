{
 "cells": [
  {
   "cell_type": "markdown",
   "metadata": {},
   "source": [
    "# MapRerankDocumentsChain"
   ]
  },
  {
   "cell_type": "markdown",
   "metadata": {},
   "source": [
    "## 源码分析"
   ]
  },
  {
   "cell_type": "markdown",
   "metadata": {},
   "source": [
    "### 类和属性定义部分"
   ]
  },
  {
   "cell_type": "markdown",
   "metadata": {},
   "source": [
    "#### 类定义"
   ]
  },
  {
   "cell_type": "code",
   "execution_count": null,
   "metadata": {},
   "outputs": [],
   "source": [
    "class MapRerankDocumentsChain(BaseCombineDocumentsChain):\n",
    "    \"\"\"Combining documents by mapping a chain over them, then reranking results.\"\"\""
   ]
  },
  {
   "cell_type": "markdown",
   "metadata": {},
   "source": [
    "`MapRerankDocumentsChain` 是一个继承自 `BaseCombineDocumentsChain` 的类。它的主要作用是对一组文档逐一应用链，然后根据输出的得分对结果进行重新排序，最终返回得分最高的结果。"
   ]
  },
  {
   "cell_type": "markdown",
   "metadata": {},
   "source": [
    "#### 属性定义"
   ]
  },
  {
   "cell_type": "code",
   "execution_count": null,
   "metadata": {},
   "outputs": [],
   "source": [
    "    llm_chain: LLMChain\n",
    "    document_variable_name: str\n",
    "    rank_key: str\n",
    "    answer_key: str\n",
    "    metadata_keys: Optional[List[str]] = None\n",
    "    return_intermediate_steps: bool = False"
   ]
  },
  {
   "cell_type": "markdown",
   "metadata": {},
   "source": [
    "- `llm_chain`: 用于处理每个文档的链（例如 `LLMChain`）。\n",
    "- `document_variable_name`: 在 `llm_chain` 中用于存储文档内容的变量名。\n",
    "- `rank_key`: 用于对结果进行排序的键（例如 `score`）。\n",
    "- `answer_key`: 最终返回的答案对应的键。\n",
    "- `metadata_keys`: 附加的元数据键，如果需要的话，可以将文档的某些元数据与结果一起返回。\n",
    "- `return_intermediate_steps`: 是否返回中间步骤的结果。"
   ]
  },
  {
   "cell_type": "markdown",
   "metadata": {},
   "source": [
    "### Schema生成部分"
   ]
  },
  {
   "cell_type": "markdown",
   "metadata": {},
   "source": [
    "`get_output_schema` 方法"
   ]
  },
  {
   "cell_type": "code",
   "execution_count": null,
   "metadata": {},
   "outputs": [],
   "source": [
    "    def get_output_schema(self, config: Optional[RunnableConfig] = None) -> Type[BaseModel]:\n",
    "        schema: Dict[str, Any] = {\n",
    "            self.output_key: (str, None),\n",
    "        }\n",
    "        if self.return_intermediate_steps:\n",
    "            schema[\"intermediate_steps\"] = (List[str], None)\n",
    "        if self.metadata_keys:\n",
    "            schema.update({key: (Any, None) for key in self.metadata_keys})\n",
    "\n",
    "        return create_model(\"MapRerankOutput\", **schema)"
   ]
  },
  {
   "cell_type": "markdown",
   "metadata": {},
   "source": [
    "- `get_output_schema`: 根据是否返回中间步骤和元数据，动态生成输出的 `schema`。这个 `schema` 会在处理结果时被用来定义输出的数据结构。"
   ]
  },
  {
   "cell_type": "markdown",
   "metadata": {},
   "source": [
    "### 输入验证部分"
   ]
  },
  {
   "cell_type": "markdown",
   "metadata": {},
   "source": [
    "#### `validate_llm_output `方法"
   ]
  },
  {
   "cell_type": "code",
   "execution_count": null,
   "metadata": {},
   "outputs": [],
   "source": [
    "    @root_validator(pre=False, skip_on_failure=True)\n",
    "    def validate_llm_output(cls, values: Dict) -> Dict:\n",
    "        output_parser = values[\"llm_chain\"].prompt.output_parser\n",
    "        if not isinstance(output_parser, RegexParser):\n",
    "            raise ValueError(\n",
    "                \"Output parser of llm_chain should be a RegexParser,\"\n",
    "                f\" got {output_parser}\"\n",
    "            )\n",
    "        output_keys = output_parser.output_keys\n",
    "        if values[\"rank_key\"] not in output_keys:\n",
    "            raise ValueError(\n",
    "                f\"Got {values['rank_key']} as key to rank on, but did not find \"\n",
    "                f\"it in the llm_chain output keys ({output_keys})\"\n",
    "            )\n",
    "        if values[\"answer_key\"] not in output_keys:\n",
    "            raise ValueError(\n",
    "                f\"Got {values['answer_key']} as key to return, but did not find \"\n",
    "                f\"it in the llm_chain output keys ({output_keys})\"\n",
    "            )\n",
    "        return values"
   ]
  },
  {
   "cell_type": "markdown",
   "metadata": {},
   "source": [
    "- `validate_llm_output`: 确保 `llm_chain` 的输出解析器是 `RegexParser`，并验证 `rank_key` 和 `answer_key` 是否在输出键中。如果不符合要求，则抛出相应的错误。"
   ]
  },
  {
   "cell_type": "markdown",
   "metadata": {},
   "source": [
    "### 处理输入部分"
   ]
  },
  {
   "cell_type": "markdown",
   "metadata": {},
   "source": [
    "#### `get_default_document_variable_name`方法"
   ]
  },
  {
   "cell_type": "code",
   "execution_count": null,
   "metadata": {},
   "outputs": [],
   "source": [
    "    @root_validator(pre=True)\n",
    "    def get_default_document_variable_name(cls, values: Dict) -> Dict:\n",
    "        if \"llm_chain\" not in values:\n",
    "            raise ValueError(\"llm_chain must be provided\")\n",
    "\n",
    "        llm_chain_variables = values[\"llm_chain\"].prompt.input_variables\n",
    "        if \"document_variable_name\" not in values:\n",
    "            if len(llm_chain_variables) == 1:\n",
    "                values[\"document_variable_name\"] = llm_chain_variables[0]\n",
    "            else:\n",
    "                raise ValueError(\n",
    "                    \"document_variable_name must be provided if there are \"\n",
    "                    \"multiple llm_chain input_variables\"\n",
    "                )\n",
    "        else:\n",
    "            if values[\"document_variable_name\"] not in llm_chain_variables:\n",
    "                raise ValueError(\n",
    "                    f\"document_variable_name {values['document_variable_name']} was \"\n",
    "                    f\"not found in llm_chain input_variables: {llm_chain_variables}\"\n",
    "                )\n",
    "        return values"
   ]
  },
  {
   "cell_type": "markdown",
   "metadata": {},
   "source": [
    "- `get_default_document_variable_name`: 验证 `document_variable_name` 是否正确设置。如果未提供且 `llm_chain` 只有一个输入变量，则默认使用该输入变量名。"
   ]
  },
  {
   "cell_type": "markdown",
   "metadata": {},
   "source": [
    "### 文档处理部分"
   ]
  },
  {
   "cell_type": "markdown",
   "metadata": {},
   "source": [
    "#### `combine_docs`方法"
   ]
  },
  {
   "cell_type": "code",
   "execution_count": null,
   "metadata": {},
   "outputs": [],
   "source": [
    "    def combine_docs(\n",
    "        self, docs: List[Document], callbacks: Callbacks = None, **kwargs: Any\n",
    "    ) -> Tuple[str, dict]:\n",
    "        results = self.llm_chain.apply_and_parse(\n",
    "            [{**{self.document_variable_name: d.page_content}, **kwargs} for d in docs],\n",
    "            callbacks=callbacks,\n",
    "        )\n",
    "        return self._process_results(docs, results)"
   ]
  },
  {
   "cell_type": "markdown",
   "metadata": {},
   "source": [
    "- `combine_docs`: 对每个文档应用 `llm_chain` 并解析结果，然后调用 `_process_results` 方法处理这些结果。最终返回最高得分的答案和相关的附加信息。"
   ]
  },
  {
   "cell_type": "markdown",
   "metadata": {},
   "source": [
    "#### `acombine_docs`方法"
   ]
  },
  {
   "cell_type": "code",
   "execution_count": null,
   "metadata": {},
   "outputs": [],
   "source": [
    "    async def acombine_docs(\n",
    "        self, docs: List[Document], callbacks: Callbacks = None, **kwargs: Any\n",
    "    ) -> Tuple[str, dict]:\n",
    "        results = await self.llm_chain.aapply_and_parse(\n",
    "            [{**{self.document_variable_name: d.page_content}, **kwargs} for d in docs],\n",
    "            callbacks=callbacks,\n",
    "        )\n",
    "        return self._process_results(docs, results)"
   ]
  },
  {
   "cell_type": "markdown",
   "metadata": {},
   "source": [
    "- `acombine_docs`: 异步版本的 `combine_docs`，对文档异步应用链并处理结果。"
   ]
  },
  {
   "cell_type": "markdown",
   "metadata": {},
   "source": [
    "#### `_process_results`方法"
   ]
  },
  {
   "cell_type": "code",
   "execution_count": null,
   "metadata": {},
   "outputs": [],
   "source": [
    "    def _process_results(\n",
    "        self,\n",
    "        docs: List[Document],\n",
    "        results: Sequence[Union[str, List[str], Dict[str, str]]],\n",
    "    ) -> Tuple[str, dict]:\n",
    "        typed_results = cast(List[dict], results)\n",
    "        sorted_res = sorted(\n",
    "            zip(typed_results, docs), key=lambda x: -int(x[0][self.rank_key])\n",
    "        )\n",
    "        output, document = sorted_res[0]\n",
    "        extra_info = {}\n",
    "        if self.metadata_keys is not None:\n",
    "            for key in self.metadata_keys:\n",
    "                extra_info[key] = document.metadata[key]\n",
    "        if self.return_intermediate_steps:\n",
    "            extra_info[\"intermediate_steps\"] = results\n",
    "        return output[self.answer_key], extra_info"
   ]
  },
  {
   "cell_type": "markdown",
   "metadata": {},
   "source": [
    "`_process_results`: 将 `llm_chain` 的结果按 `rank_key` 排序，并返回得分最高的答案。同时，附加返回任何指定的元数据键和中间步骤的结果。"
   ]
  },
  {
   "cell_type": "markdown",
   "metadata": {},
   "source": [
    "### 类型定义"
   ]
  },
  {
   "cell_type": "markdown",
   "metadata": {},
   "source": [
    "#### `_chain_type`属性"
   ]
  },
  {
   "cell_type": "code",
   "execution_count": null,
   "metadata": {},
   "outputs": [],
   "source": [
    "    @property\n",
    "    def _chain_type(self) -> str:\n",
    "        return \"map_rerank_documents_chain\""
   ]
  },
  {
   "cell_type": "markdown",
   "metadata": {},
   "source": [
    "- `_chain_type`: 返回链的类型，表明该链是一个 map_rerank_documents_chain."
   ]
  },
  {
   "cell_type": "markdown",
   "metadata": {},
   "source": [
    "### 总结"
   ]
  },
  {
   "cell_type": "markdown",
   "metadata": {},
   "source": [
    "`MapRerankDocumentsChain` 类用于处理一组文档，通过 `llm_chain` 对每个文档进行处理，然后根据结果进行重新排序。最终，它返回得分最高的答案，并可以选择返回文档的元数据和中间步骤的结果。这种方法特别适合需要从一组可能答案中挑选出最佳答案的场景。"
   ]
  },
  {
   "cell_type": "markdown",
   "metadata": {},
   "source": [
    "## demo"
   ]
  },
  {
   "cell_type": "code",
   "execution_count": 57,
   "metadata": {},
   "outputs": [],
   "source": [
    "from langchain.prompts import PromptTemplate\n",
    "from langchain.output_parsers.regex import RegexParser\n",
    "from langchain_community.chat_models import ChatTongyi\n",
    "from langchain.chains.llm import LLMChain\n",
    "from langchain.chains.combine_documents.map_rerank import MapRerankDocumentsChain\n",
    "from langchain_core.documents import Document\n",
    "import os"
   ]
  },
  {
   "cell_type": "code",
   "execution_count": 58,
   "metadata": {},
   "outputs": [],
   "source": [
    "\n",
    "# 定义新的提示模板\n",
    "prompt_template = (\n",
    "    \"Use the following context to answer the question: '{question}'. \"\n",
    "    \"Provide your answer in the format 'Answer: [your answer]' and a confidence score \"\n",
    "    \"in the format 'Score: [your score]'. Context: {context}\"\n",
    ")\n",
    "\n",
    "\n",
    "# 调整后的正则表达式，提取数字部分\n",
    "output_parser = RegexParser(\n",
    "    regex=r\"Answer: (.*?)\\nScore: (\\d+)%\",  # 提取数字部分的分数\n",
    "    output_keys=[\"answer\", \"score\"],\n",
    ")\n",
    "\n",
    "# 创建PromptTemplate对象\n",
    "prompt = PromptTemplate(\n",
    "    template=prompt_template,\n",
    "    input_variables=[\"context\", \"question\"],\n",
    "    output_parser=output_parser,\n",
    ")\n"
   ]
  },
  {
   "cell_type": "code",
   "execution_count": 59,
   "metadata": {},
   "outputs": [],
   "source": [
    "\n",
    "# 从环境变量中获取API密钥，用于初始化 ChatTongyi 模型\n",
    "api_key = os.getenv(\"KEY_TONGYI\")\n",
    "if not api_key:\n",
    "    raise ValueError(\"API Key is not set. Please ensure that the 'KEY_TONGYI' environment variable is set.\")\n",
    "\n",
    "\n",
    "# 初始化 ChatTongyi 模型，设置文本生成的温度参数，温度越低生成的文本越接近输入\n",
    "llm = ChatTongyi(\n",
    "    dashscope_api_key=api_key,\n",
    "    temperature=0,  # 设置生成文本的倾向，值越小生成的文本越接近输入\n",
    "    streaming=True\n",
    ")\n"
   ]
  },
  {
   "cell_type": "code",
   "execution_count": 60,
   "metadata": {},
   "outputs": [],
   "source": [
    "# LLM链\n",
    "llm_chain = LLMChain(\n",
    "  llm=llm,\n",
    "  prompt=prompt\n",
    ")"
   ]
  },
  {
   "cell_type": "code",
   "execution_count": 65,
   "metadata": {},
   "outputs": [],
   "source": [
    "# 创建 MapRerankDocumentsChain\n",
    "chain = MapRerankDocumentsChain(\n",
    "    llm_chain=llm_chain,\n",
    "    document_variable_name=\"context\",\n",
    "    rank_key=\"score\",    # 使用 'score' 作为排序依据\n",
    "    answer_key=\"answer\",  # 返回 'answer' 作为最终结果\n",
    "    return_intermediate_steps=True\n",
    ")"
   ]
  },
  {
   "cell_type": "code",
   "execution_count": 63,
   "metadata": {},
   "outputs": [
    {
     "name": "stderr",
     "output_type": "stream",
     "text": [
      "e:\\AAAAWork\\python\\LLM_RAG\\demo\\lib\\site-packages\\langchain\\chains\\llm.py:367: UserWarning: The apply_and_parse method is deprecated, instead pass an output parser directly to LLMChain.\n",
      "  warnings.warn(\n"
     ]
    },
    {
     "name": "stdout",
     "output_type": "stream",
     "text": [
      "H2O\n"
     ]
    }
   ],
   "source": [
    "from langchain.docstore.document import Document\n",
    "\n",
    "# 定义文档\n",
    "docs = [\n",
    "    Document(page_content=\"Water is composed of two hydrogen atoms and one oxygen atom.\"),\n",
    "    Document(page_content=\"H2O is the chemical formula for water.\"),\n",
    "    Document(page_content=\"Water is made up of H and O.\"),\n",
    "]\n",
    "\n",
    "# 运行链，提取最高得分的答案\n",
    "result, _ = chain.combine_docs(docs, question=\"What is the chemical formula for water?\")\n",
    "print(result)  # 输出得分最高的答案\n"
   ]
  },
  {
   "cell_type": "code",
   "execution_count": 66,
   "metadata": {},
   "outputs": [
    {
     "name": "stderr",
     "output_type": "stream",
     "text": [
      "e:\\AAAAWork\\python\\LLM_RAG\\demo\\lib\\site-packages\\langchain\\chains\\llm.py:367: UserWarning: The apply_and_parse method is deprecated, instead pass an output parser directly to LLMChain.\n",
      "  warnings.warn(\n"
     ]
    }
   ],
   "source": [
    "# 运行链，提取最高得分的答案\n",
    "result, other_answer = chain.combine_docs(docs, question=\"水是有哪几个元素组成的？\")\n",
    "# print(result)  # 输出得分最高的答案"
   ]
  },
  {
   "cell_type": "code",
   "execution_count": 70,
   "metadata": {},
   "outputs": [
    {
     "data": {
      "text/plain": [
       "'Water is composed of two hydrogen atoms and one oxygen atom.'"
      ]
     },
     "execution_count": 70,
     "metadata": {},
     "output_type": "execute_result"
    }
   ],
   "source": [
    "result\n"
   ]
  },
  {
   "cell_type": "code",
   "execution_count": 71,
   "metadata": {},
   "outputs": [
    {
     "data": {
      "text/plain": [
       "{'intermediate_steps': [{'answer': 'Water is composed of two hydrogen atoms and one oxygen atom.',\n",
       "   'score': '100'},\n",
       "  {'answer': 'Water is composed of two hydrogen (H) and one oxygen (O) element.',\n",
       "   'score': '100'},\n",
       "  {'answer': 'Water is composed of hydrogen (H) and oxygen (O). ',\n",
       "   'score': '100'}]}"
      ]
     },
     "execution_count": 71,
     "metadata": {},
     "output_type": "execute_result"
    }
   ],
   "source": [
    "other_answer"
   ]
  }
 ],
 "metadata": {
  "kernelspec": {
   "display_name": "demo",
   "language": "python",
   "name": "python3"
  },
  "language_info": {
   "codemirror_mode": {
    "name": "ipython",
    "version": 3
   },
   "file_extension": ".py",
   "mimetype": "text/x-python",
   "name": "python",
   "nbconvert_exporter": "python",
   "pygments_lexer": "ipython3",
   "version": "3.10.3"
  }
 },
 "nbformat": 4,
 "nbformat_minor": 2
}
