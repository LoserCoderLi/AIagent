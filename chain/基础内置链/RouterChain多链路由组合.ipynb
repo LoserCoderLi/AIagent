{
 "cells": [
  {
   "cell_type": "markdown",
   "metadata": {},
   "source": [
    "# RouterChain多链路由组合"
   ]
  },
  {
   "cell_type": "markdown",
   "metadata": {},
   "source": [
    "## 源码分析"
   ]
  },
  {
   "cell_type": "markdown",
   "metadata": {},
   "source": [
    "### 类定义和属性"
   ]
  },
  {
   "cell_type": "code",
   "execution_count": null,
   "metadata": {},
   "outputs": [],
   "source": [
    "class RouterChain(Chain, ABC):\n",
    "    \"\"\"Chain that outputs the name of a destination chain and the inputs to it.\"\"\"\n",
    "\n",
    "    @property\n",
    "    def output_keys(self) -> List[str]:\n",
    "        return [\"destination\", \"next_inputs\"]"
   ]
  },
  {
   "cell_type": "markdown",
   "metadata": {},
   "source": [
    "- `RouterChain`继承自`Chain`并实现了`ABC`(Abstract Base Class)，表明这是一个抽象类，不能直接实例化。\n",
    "- `output_keys`: 这是一个属性方法，返回一个包含两个字符串的列表：`\"destination\"` 和 `\"next_inputs\"`。它定义了该链的输出键：\n",
    "  - `\"destination\"`：目标链的名称。\n",
    "  - `\"next_inputs\"`：要传递给目标链的输入。"
   ]
  },
  {
   "cell_type": "markdown",
   "metadata": {},
   "source": [
    "### `route` 方法"
   ]
  },
  {
   "cell_type": "code",
   "execution_count": null,
   "metadata": {},
   "outputs": [],
   "source": [
    "[docs] def route(self, inputs: Dict[str, Any], callbacks: Callbacks = None) -> Route:\n",
    "    \"\"\"\n",
    "    Route inputs to a destination chain.\n",
    "\n",
    "    Args:\n",
    "        inputs: inputs to the chain\n",
    "        callbacks: callbacks to use for the chain\n",
    "\n",
    "    Returns:\n",
    "        a Route object\n",
    "    \"\"\"\n",
    "    result = self(inputs, callbacks=callbacks)\n",
    "    return Route(result[\"destination\"], result[\"next_inputs\"])"
   ]
  },
  {
   "cell_type": "markdown",
   "metadata": {},
   "source": [
    "- `route`: 这是一个同步方法，用于根据输入数据确定目标链，并传递相应的输入数据。具体操作如下：\n",
    "  - `inputs`: 传入的输入数据，通常是一个字典。\n",
    "  - `callbacks`: 可选的回调函数，用于链执行期间的回调操作。\n",
    "  - `result`: 调用 `self(inputs, callbacks=callbacks)`，执行当前链并获取结果。结果应该是一个字典，包含 `destination` 和 `next_inputs` 两个键。\n",
    "  - `Route`: 返回一个 `Route` 对象，包含目标链的名称和传递给目标链的输入数据。"
   ]
  },
  {
   "cell_type": "markdown",
   "metadata": {},
   "source": [
    "### `aroute`方法"
   ]
  },
  {
   "cell_type": "code",
   "execution_count": null,
   "metadata": {},
   "outputs": [],
   "source": [
    "[docs] async def aroute(\n",
    "    self, inputs: Dict[str, Any], callbacks: Callbacks = None\n",
    ") -> Route:\n",
    "    result = await self.acall(inputs, callbacks=callbacks)\n",
    "    return Route(result[\"destination\"], result[\"next_inputs\"])"
   ]
  },
  {
   "cell_type": "markdown",
   "metadata": {},
   "source": [
    "- `aroute`: 这是 route 方法的异步版本，功能相同，但支持异步操作。\n",
    "  - `inputs`: 传入的输入数据，通常是一个字典。\n",
    "  - `callbacks`: 可选的回调函数，用于链执行期间的回调操作。\n",
    "  - `result`: 使用 await self.acall(inputs, callbacks=callbacks) 执行当前链的异步调用，获取结果。\n",
    "  - `Route`: 返回一个 Route 对象，包含目标链的名称和传递给目标链的输入数据。"
   ]
  },
  {
   "cell_type": "markdown",
   "metadata": {},
   "source": [
    "### 总结\n",
    "`RouterChain` 是一个抽象类，提供了路由输入数据到目标链的逻辑。它通过 `route` 和 `aroute` 方法根据输入数据确定目标链，并生成要传递给目标链的输入。这使得 `RouterChain` 能够根据具体条件灵活地选择不同的链进行处理，适用于复杂流程控制场景。"
   ]
  },
  {
   "cell_type": "markdown",
   "metadata": {},
   "source": [
    "## demo"
   ]
  },
  {
   "cell_type": "code",
   "execution_count": 41,
   "metadata": {},
   "outputs": [],
   "source": [
    "from langchain.chains.llm import LLMChain\n",
    "from langchain.prompts import PromptTemplate\n",
    "from langchain.chains.router.base import RouterChain\n",
    "from langchain_community.chat_models import ChatTongyi\n",
    "from langchain.callbacks.base import Callbacks\n",
    "import os"
   ]
  },
  {
   "cell_type": "code",
   "execution_count": 42,
   "metadata": {},
   "outputs": [],
   "source": [
    "# 从环境变量中获取API密钥，用于初始化 ChatTongyi 模型\n",
    "api_key = os.getenv(\"KEY_TONGYI\")\n",
    "if not api_key:\n",
    "    raise ValueError(\"API Key is not set. Please ensure that the 'KEY_TONGYI' environment variable is set.\")\n",
    "\n",
    "# 初始化 ChatTongyi 模型，设置文本生成的温度参数，温度越低生成的文本越接近输入\n",
    "llm = ChatTongyi(\n",
    "    dashscope_api_key=api_key,\n",
    "    temperature=0,  # 设置生成文本的倾向，值越小生成的文本越接近输入\n",
    "    streaming=True\n",
    ")"
   ]
  },
  {
   "cell_type": "code",
   "execution_count": 43,
   "metadata": {},
   "outputs": [],
   "source": [
    "# 定义第一个chain\n",
    "# 提示词模板\n",
    "task_description_template = PromptTemplate(\n",
    "  input_variables=[\"input\"],\n",
    "  template=\"根据{input}这个主题写一首诗。\",\n",
    ")\n",
    "generate_poem_chain = LLMChain(llm=llm, prompt=task_description_template, output_key=\"poem_content\")"
   ]
  },
  {
   "cell_type": "code",
   "execution_count": 91,
   "metadata": {},
   "outputs": [],
   "source": [
    "# 定义第二个chain\n",
    "# 提示词模板\n",
    "subtask_description_template_eval = PromptTemplate(\n",
    "  input_variables=[\"input\"],\n",
    "  template=\"根据{input}这首诗,写一个评价。\",\n",
    ")\n",
    "evaluate_poem_chain = LLMChain(llm=llm, prompt=subtask_description_template_eval, output_key=\"output\")"
   ]
  },
  {
   "cell_type": "code",
   "execution_count": 92,
   "metadata": {},
   "outputs": [],
   "source": [
    "# 定义第三个chain\n",
    "# 提示词模板\n",
    "subtask_description_template_trans = PromptTemplate(\n",
    "  input_variables=[\"input\"],\n",
    "  template=\"用优美的英语翻译{input}这首诗\",\n",
    ")\n",
    "trans_poem_chain = LLMChain(llm=llm, prompt=subtask_description_template_trans, output_key=\"output\")"
   ]
  },
  {
   "cell_type": "code",
   "execution_count": 93,
   "metadata": {},
   "outputs": [],
   "source": [
    "# 创建一个简单的路由链\n",
    "from gc import callbacks\n",
    "from typing import Any, Dict, List\n",
    "\n",
    "# 创建一个简单的路由链\n",
    "class SimpleRouterChain(RouterChain):\n",
    "    \"\"\"A simple router chain example.\"\"\"\n",
    "\n",
    "    @property\n",
    "    def input_keys(self) -> List[str]:\n",
    "        \"\"\"Return expected input keys.\"\"\"\n",
    "        return [\"input\"]\n",
    "\n",
    "    def _call(self, inputs: Dict[str, Any], callbacks: Callbacks = None) -> Dict[str, str]:\n",
    "        # 路由逻辑：如果输入包含 \"A\"，选择 ChainA，否则选择 ChainB\n",
    "        if \"评价\" in inputs[\"input\"]:\n",
    "            print(\"评价\")\n",
    "            return {\"destination\": \"evaluate_poem_chain\", \"next_inputs\": {\"input\": inputs[\"input\"]}}\n",
    "        \n",
    "        elif \"翻译\" in inputs[\"input\"]:\n",
    "            print(\"翻译\")\n",
    "            return {\"destination\": \"trans_poem_chain\", \"next_inputs\": {\"input\": inputs[\"input\"]}}\n",
    "\n",
    "        else: \n",
    "            print(\"无\")\n",
    "            return None\n",
    "        \n",
    "    async def _acall(self, inputs: Dict[str, Any], callbacks: Callbacks = None) -> Dict[str, str]:\n",
    "        # 异步路由逻辑\n",
    "        if \"评价\" in inputs[\"input\"]:\n",
    "            print(\"评价\")\n",
    "            return {\"destination\": \"evaluate_poem_chain\", \"next_inputs\": {\"input\": inputs[\"input\"]}}\n",
    "        \n",
    "        elif \"翻译\" in inputs[\"input\"]:\n",
    "            print(\"翻译\")\n",
    "            return {\"destination\": \"trans_poem_chain\", \"next_inputs\": {\"input\": inputs[\"input\"]}}\n",
    "\n",
    "        else: \n",
    "            print(\"无\")\n",
    "            return None"
   ]
  },
  {
   "cell_type": "code",
   "execution_count": 94,
   "metadata": {},
   "outputs": [],
   "source": [
    "# 初始化路由链\n",
    "router_chain = SimpleRouterChain()"
   ]
  },
  {
   "cell_type": "code",
   "execution_count": 95,
   "metadata": {},
   "outputs": [],
   "source": [
    "# 定义一个简单的函数来模拟目标链的选择\n",
    "def execute_chain(router_chain, input_text):\n",
    "    route = router_chain.route({\"input\": input_text})\n",
    "    print(route)\n",
    "    if route.destination == \"evaluate_poem_chain\":\n",
    "        return evaluate_poem_chain.run(route.next_inputs)\n",
    "    elif route.destination == \"trans_poem_chain\":\n",
    "        return trans_poem_chain.run(route.next_inputs)\n",
    "    else:\n",
    "        return \"No matching chain found.\""
   ]
  },
  {
   "cell_type": "code",
   "execution_count": 27,
   "metadata": {},
   "outputs": [],
   "source": [
    "# 生成一首诗\n",
    "question = '女朋友生日快乐'\n",
    "resopne_poem = generate_poem_chain.invoke(question)"
   ]
  },
  {
   "cell_type": "code",
   "execution_count": 28,
   "metadata": {},
   "outputs": [
    {
     "data": {
      "text/plain": [
       "'评价这首诗：【生日快乐，我的挚爱】\\n\\n在春日的温柔里，你如晨曦初照，\\n轻轻唤醒沉睡的心房，让爱意绽放。\\n你的笑靥，是夏日里最清新的凉风，\\n吹散了生活的尘埃，留下一片宁静。\\n\\n秋月之下，你是我手中那盏明灯，\\n照亮前行的道路，驱走夜的寂寞与冷。\\n冬雪皑皑，你温暖如春，融化我心中的冰封，\\n让我相信，即使世界寒冷，爱永不止息。\\n\\n你是我生命中最美的风景，\\n每一次相遇，都是上天赐予的幸运。\\n在这特别的日子里，我想对你说：\\n生日快乐，愿你的每一天都如诗如画，充满欢声笑语。\\n\\n愿你的梦想如同繁星，璀璨夺目，\\n每一步前行，都能收获属于你的幸福。\\n无论风雨，无论晴空，都有我陪伴在侧，\\n守护你，直到地老天荒，海枯石烂。\\n\\n亲爱的，让我们手牵手，共赴未来的旅程，\\n在彼此的爱中，找到永恒的归宿。\\n在这个特别的日子，我要大声告诉你：\\n我爱你，比昨天多一点，比明天少一点，但永远不变。\\n\\n愿这诗，如一束光，照亮你的生日，\\n愿这份心意，如春风，温暖你的心房。\\n生日快乐，我的挚爱，愿你的世界，\\n永远充满爱，充满希望，充满欢笑。'"
      ]
     },
     "execution_count": 28,
     "metadata": {},
     "output_type": "execute_result"
    }
   ],
   "source": [
    "# 评价的路由问题\n",
    "question2evaluate = \"评价这首诗：\"+resopne_poem['poem_content']\n",
    "question2evaluate"
   ]
  },
  {
   "cell_type": "code",
   "execution_count": 29,
   "metadata": {},
   "outputs": [
    {
     "data": {
      "text/plain": [
       "'翻译这首诗：【生日快乐，我的挚爱】\\n\\n在春日的温柔里，你如晨曦初照，\\n轻轻唤醒沉睡的心房，让爱意绽放。\\n你的笑靥，是夏日里最清新的凉风，\\n吹散了生活的尘埃，留下一片宁静。\\n\\n秋月之下，你是我手中那盏明灯，\\n照亮前行的道路，驱走夜的寂寞与冷。\\n冬雪皑皑，你温暖如春，融化我心中的冰封，\\n让我相信，即使世界寒冷，爱永不止息。\\n\\n你是我生命中最美的风景，\\n每一次相遇，都是上天赐予的幸运。\\n在这特别的日子里，我想对你说：\\n生日快乐，愿你的每一天都如诗如画，充满欢声笑语。\\n\\n愿你的梦想如同繁星，璀璨夺目，\\n每一步前行，都能收获属于你的幸福。\\n无论风雨，无论晴空，都有我陪伴在侧，\\n守护你，直到地老天荒，海枯石烂。\\n\\n亲爱的，让我们手牵手，共赴未来的旅程，\\n在彼此的爱中，找到永恒的归宿。\\n在这个特别的日子，我要大声告诉你：\\n我爱你，比昨天多一点，比明天少一点，但永远不变。\\n\\n愿这诗，如一束光，照亮你的生日，\\n愿这份心意，如春风，温暖你的心房。\\n生日快乐，我的挚爱，愿你的世界，\\n永远充满爱，充满希望，充满欢笑。'"
      ]
     },
     "execution_count": 29,
     "metadata": {},
     "output_type": "execute_result"
    }
   ],
   "source": [
    "# 翻译的路由问题\n",
    "question2trans = \"翻译这首诗：\"+resopne_poem['poem_content']\n",
    "question2trans"
   ]
  },
  {
   "cell_type": "code",
   "execution_count": 97,
   "metadata": {},
   "outputs": [
    {
     "name": "stdout",
     "output_type": "stream",
     "text": [
      "评价\n",
      "Route(destination='evaluate_poem_chain', next_inputs={'input': '评价这首诗：【生日快乐，我的挚爱】\\n\\n在春日的温柔里，你如晨曦初照，\\n轻轻唤醒沉睡的心房，让爱意绽放。\\n你的笑靥，是夏日里最清新的凉风，\\n吹散了生活的尘埃，留下一片宁静。\\n\\n秋月之下，你是我手中那盏明灯，\\n照亮前行的道路，驱走夜的寂寞与冷。\\n冬雪皑皑，你温暖如春，融化我心中的冰封，\\n让我相信，即使世界寒冷，爱永不止息。\\n\\n你是我生命中最美的风景，\\n每一次相遇，都是上天赐予的幸运。\\n在这特别的日子里，我想对你说：\\n生日快乐，愿你的每一天都如诗如画，充满欢声笑语。\\n\\n愿你的梦想如同繁星，璀璨夺目，\\n每一步前行，都能收获属于你的幸福。\\n无论风雨，无论晴空，都有我陪伴在侧，\\n守护你，直到地老天荒，海枯石烂。\\n\\n亲爱的，让我们手牵手，共赴未来的旅程，\\n在彼此的爱中，找到永恒的归宿。\\n在这个特别的日子，我要大声告诉你：\\n我爱你，比昨天多一点，比明天少一点，但永远不变。\\n\\n愿这诗，如一束光，照亮你的生日，\\n愿这份心意，如春风，温暖你的心房。\\n生日快乐，我的挚爱，愿你的世界，\\n永远充满爱，充满希望，充满欢笑。'})\n"
     ]
    }
   ],
   "source": [
    "output_evaluate = execute_chain(router_chain, question2evaluate)"
   ]
  },
  {
   "cell_type": "code",
   "execution_count": 98,
   "metadata": {},
   "outputs": [
    {
     "data": {
      "text/plain": [
       "'这首诗充满了深情与诗意，作者以四季为线索，巧妙地将爱情的美好与复杂情感描绘得淋漓尽致。从春日的温柔、夏日的清新、秋月的指引到冬雪的温暖，每一个季节的意象都寓意着爱情的不同阶段和特质，既展现了爱情的甜蜜与温馨，也触及到了其深度与广度。诗中的比喻和象征运用得恰到好处，不仅增强了语言的表现力，也让读者能够更加深刻地感受到诗人对挚爱的深情厚谊。\\n\\n诗的语言优美而富有感染力，每一句都充满了对对方的赞美和承诺，无论是对对方梦想的支持、对未来旅程的共同期待，还是对永恒爱情的坚信，都透露出一种坚定而美好的情感。这种情感的表达方式既浪漫又真诚，让人感到温暖和感动。\\n\\n此外，诗中还融入了一些哲学思考，如“无论风雨，无论晴空，都有我陪伴在侧”，这不仅是对当前关系的承诺，也暗示了一种对生活态度的积极理解——即使面对困难和挑战，有爱相伴，就能找到前进的力量。\\n\\n总的来说，这首诗是一首充满深情、诗意与哲理的作品，它不仅表达了对挚爱的深厚情感，也传递了对美好生活的向往和对未来的乐观态度。通过四季的变换，诗人成功地构建了一个既具象又抽象的爱情世界，使得这首诗具有了广泛的共鸣性和艺术感染力。'"
      ]
     },
     "execution_count": 98,
     "metadata": {},
     "output_type": "execute_result"
    }
   ],
   "source": [
    "output_evaluate"
   ]
  },
  {
   "cell_type": "code",
   "execution_count": 99,
   "metadata": {},
   "outputs": [
    {
     "name": "stdout",
     "output_type": "stream",
     "text": [
      "翻译\n",
      "Route(destination='trans_poem_chain', next_inputs={'input': '翻译这首诗：【生日快乐，我的挚爱】\\n\\n在春日的温柔里，你如晨曦初照，\\n轻轻唤醒沉睡的心房，让爱意绽放。\\n你的笑靥，是夏日里最清新的凉风，\\n吹散了生活的尘埃，留下一片宁静。\\n\\n秋月之下，你是我手中那盏明灯，\\n照亮前行的道路，驱走夜的寂寞与冷。\\n冬雪皑皑，你温暖如春，融化我心中的冰封，\\n让我相信，即使世界寒冷，爱永不止息。\\n\\n你是我生命中最美的风景，\\n每一次相遇，都是上天赐予的幸运。\\n在这特别的日子里，我想对你说：\\n生日快乐，愿你的每一天都如诗如画，充满欢声笑语。\\n\\n愿你的梦想如同繁星，璀璨夺目，\\n每一步前行，都能收获属于你的幸福。\\n无论风雨，无论晴空，都有我陪伴在侧，\\n守护你，直到地老天荒，海枯石烂。\\n\\n亲爱的，让我们手牵手，共赴未来的旅程，\\n在彼此的爱中，找到永恒的归宿。\\n在这个特别的日子，我要大声告诉你：\\n我爱你，比昨天多一点，比明天少一点，但永远不变。\\n\\n愿这诗，如一束光，照亮你的生日，\\n愿这份心意，如春风，温暖你的心房。\\n生日快乐，我的挚爱，愿你的世界，\\n永远充满爱，充满希望，充满欢笑。'})\n"
     ]
    }
   ],
   "source": [
    "output_trans = execute_chain(router_chain, question2trans)"
   ]
  },
  {
   "cell_type": "code",
   "execution_count": 100,
   "metadata": {},
   "outputs": [
    {
     "data": {
      "text/plain": [
       "\"In the gentle embrace of spring, you shine like the dawn,\\nGently awakening the slumbering heart, letting love bloom.\\nYour smile is the freshest breeze of summer,\\nBlowing away life's dust, leaving tranquility behind.\\n\\nUnder the moon of autumn, you are my guiding light,\\nIlluminating the path ahead, driving away loneliness and chill of night.\\nIn winter's snow, you are warm as spring, melting the ice within my heart,\\nLetting me believe that even if the world is cold, love never fades.\\n\\nYou are the most beautiful scenery in my life,\\nEvery encounter is a blessing bestowed by fate.\\nOn this special day, I want to say to you:\\nHappy birthday, may each day be as poetic as a painting, filled with laughter and joy.\\n\\nMay your dreams be as brilliant as stars, dazzling and bright,\\nEvery step forward brings you the happiness that belongs to you.\\nNo matter the storm or clear sky, I will always be by your side,\\nGuarding you until eternity, through time and forever.\\n\\nMy dear, let us hold hands and embark on our journey together,\\nFinding an eternal haven in each other's love.\\nOn this special day, I want to loudly tell you:\\nI love you, a little more than yesterday, a little less than tomorrow, but always unchanged.\\n\\nMay this poem, like a beam of light, illuminate your birthday,\\nMay this sentiment, like spring breeze, warm your heart.\\nHappy birthday, my beloved, may your world,\\nAlways be filled with love, hope, and laughter.\""
      ]
     },
     "execution_count": 100,
     "metadata": {},
     "output_type": "execute_result"
    }
   ],
   "source": [
    "output_trans"
   ]
  }
 ],
 "metadata": {
  "kernelspec": {
   "display_name": "demo",
   "language": "python",
   "name": "python3"
  },
  "language_info": {
   "codemirror_mode": {
    "name": "ipython",
    "version": 3
   },
   "file_extension": ".py",
   "mimetype": "text/x-python",
   "name": "python",
   "nbconvert_exporter": "python",
   "pygments_lexer": "ipython3",
   "version": "3.10.3"
  }
 },
 "nbformat": 4,
 "nbformat_minor": 2
}
