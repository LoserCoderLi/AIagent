{
 "cells": [
  {
   "cell_type": "code",
   "execution_count": 24,
   "metadata": {},
   "outputs": [],
   "source": [
    "from langchain.tools import Tool\n",
    "from langchain.agents import initialize_agent, AgentType\n",
    "from langchain_community.chat_models.tongyi import ChatTongyi\n",
    "from langchain_community.agent_toolkits.load_tools import load_tools\n",
    "import os\n",
    "from langchain.tools import tool\n"
   ]
  },
  {
   "cell_type": "code",
   "execution_count": 52,
   "metadata": {},
   "outputs": [],
   "source": [
    "@tool\n",
    "def leader_info_tool(query: str) -> str:\n",
    "    \"\"\"\n",
    "    提供名称和年龄信息，如果提供的内容不存在，则跳出迭代。\n",
    "    \"\"\"\n",
    "    leaders_info = {\n",
    "        \"美国总统\": {\"name\": \"乔·拜登\", \"age\": 81},\n",
    "        \"英国首相\": {\"name\": \"里希·苏纳克\", \"age\": 44}\n",
    "    }\n",
    "    \n",
    "    if \"美国总统\" in query:\n",
    "        return f\"美国总统是{leaders_info['美国总统']['name']}，年龄是{leaders_info['美国总统']['age']}岁。\"\n",
    "    elif \"英国首相\" in query:\n",
    "        return f\"英国首相是{leaders_info['英国首相']['name']}，年龄是{leaders_info['英国首相']['age']}岁。\"\n",
    "    else:\n",
    "        return \"未能找到相关领导人的信息，请尝试其他查询。\"\n"
   ]
  },
  {
   "cell_type": "code",
   "execution_count": 61,
   "metadata": {},
   "outputs": [],
   "source": [
    "\n",
    "# 定义一个包含首相和总统信息的工具\n",
    "def leader_info_tool(query: str) -> str:\n",
    "    leaders_info = {\n",
    "        \"美国总统\": {\"name\": \"乔·拜登\", \"age\": 81},\n",
    "        \"英国首相\": {\"name\": \"里希·苏纳克\", \"age\": 44}\n",
    "    }\n",
    "    \n",
    "    if \"美国总统\" in query:\n",
    "        return f\"美国总统是{leaders_info['美国总统']['name']}，年龄是{leaders_info['美国总统']['age']}岁。\"\n",
    "    elif \"英国首相\" in query:\n",
    "        return f\"英国首相是{leaders_info['英国首相']['name']}，年龄是{leaders_info['英国首相']['age']}岁。\"\n",
    "    else:\n",
    "        return None\n",
    "\n",
    "\n",
    "# 将自定义函数包装成LangChain工具\n",
    "leader_info_tool = Tool(\n",
    "    name=\"LeaderInfoTool\",\n",
    "    func=leader_info_tool,\n",
    "    description=\"提供当前美国总统和英国首相的名称和年龄信息\"\n",
    ")\n"
   ]
  },
  {
   "cell_type": "code",
   "execution_count": 62,
   "metadata": {},
   "outputs": [],
   "source": [
    "# 初始化Tongyi模型\n",
    "api_key = os.getenv(\"KEY_TONGYI\")\n",
    "llm = ChatTongyi(\n",
    "    dashscope_api_key=api_key,\n",
    "    temperature=0\n",
    ")\n",
    "\n",
    "tools = load_tools([\"llm-math\"], llm)  # 移除了serpapi，保留llm-math工具\n",
    "\n",
    "# 添加自定义工具到工具列表中\n",
    "tools.append(leader_info_tool)\n",
    "\n",
    "# 初始化Agent\n",
    "agent = initialize_agent(\n",
    "    tools=tools,\n",
    "    llm=llm,\n",
    "    agent=AgentType.ZERO_SHOT_REACT_DESCRIPTION,\n",
    "    verbose=True,\n",
    "    max_iterations=2  # 设置最大迭代次数为5次\n",
    ")\n"
   ]
  },
  {
   "cell_type": "code",
   "execution_count": 64,
   "metadata": {},
   "outputs": [
    {
     "name": "stdout",
     "output_type": "stream",
     "text": [
      "\n",
      "\n",
      "\u001b[1m> Entering new AgentExecutor chain...\u001b[0m\n",
      "\u001b[32;1m\u001b[1;3m这个问题是关于俄罗斯领导人的，所以我应该使用LeaderInfoTool来获取信息。\n",
      "\n",
      "Action: LeaderInfoTool\n",
      "Action Input: query=\"Russia's leader and their age\"\u001b[0m\n",
      "Observation: \u001b[33;1m\u001b[1;3mNone\u001b[0m\n",
      "Thought:\u001b[32;1m\u001b[1;3m我需要等待LeaderInfoTool返回结果。\n",
      "Action: LeaderInfoTool\n",
      "Action Input: query=\"Russia's leader and their age\"\u001b[0m\n",
      "Observation: \u001b[33;1m\u001b[1;3mNone\u001b[0m\n",
      "Thought:\u001b[32;1m\u001b[1;3m\u001b[0m\n",
      "\n",
      "\u001b[1m> Finished chain.\u001b[0m\n",
      "response: Agent stopped due to iteration limit or time limit.\n"
     ]
    }
   ],
   "source": [
    "\n",
    "# 运行Agent\n",
    "response = agent.run(\"俄罗斯的老大是谁，多大了\")\n",
    "if response :\n",
    "  pass\n",
    "else:\n",
    "  print(222)\n",
    "  response = llm.invoke(\"俄罗斯的老大是谁，多大了\")\n",
    "\n",
    "print(\"response:\", response)\n"
   ]
  }
 ],
 "metadata": {
  "kernelspec": {
   "display_name": "demo",
   "language": "python",
   "name": "python3"
  },
  "language_info": {
   "codemirror_mode": {
    "name": "ipython",
    "version": 3
   },
   "file_extension": ".py",
   "mimetype": "text/x-python",
   "name": "python",
   "nbconvert_exporter": "python",
   "pygments_lexer": "ipython3",
   "version": "3.10.3"
  }
 },
 "nbformat": 4,
 "nbformat_minor": 2
}
