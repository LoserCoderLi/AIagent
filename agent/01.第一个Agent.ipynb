{
 "cells": [
  {
   "cell_type": "markdown",
   "id": "cdb51713ac97acb7",
   "metadata": {},
   "source": [
    "# 第一个Agent\n",
    "- 会做数学题\n",
    "- 不知道答案时可以搜索"
   ]
  },
  {
   "cell_type": "code",
   "execution_count": 10,
   "id": "76b8f44a9f3b5f81",
   "metadata": {
    "ExecuteTime": {
     "end_time": "2024-08-18T11:29:50.649868Z",
     "start_time": "2024-08-18T11:29:50.643210Z"
    }
   },
   "outputs": [],
   "source": [
    "from langchain_community.chat_models.tongyi import ChatTongyi\n",
    "import os\n",
    "\n",
    "api_key = os.getenv(\"KEY_TONGYI\")\n",
    "serp_api_key = os.getenv(\"KEY_SEARCH\") #搜索平台Serp的API KEY\n",
    "os.environ[\"SERPAPI_API_KEY\"] = serp_api_key\n",
    "\n",
    "# LLM\n",
    "llm = ChatTongyi(\n",
    "    dashscope_api_key=api_key,\n",
    "    temperature=0 # 0-1，越小越倾向与输入一致\n",
    ")"
   ]
  },
  {
   "cell_type": "markdown",
   "id": "bedc77bfd9f15c00",
   "metadata": {},
   "source": [
    "## 搭建工具\n",
    "- serpapi是一个聚合搜索引擎，需要安装谷歌搜索包以及申请账号 https://serpapi.com/\n",
    "- llm-math是一个已经封装好的数学计算链"
   ]
  },
  {
   "cell_type": "code",
   "execution_count": null,
   "id": "f1c470e5eff83f46",
   "metadata": {},
   "outputs": [],
   "source": [
    "#安装搜索包\n",
    "! pip install google-search-results"
   ]
  },
  {
   "cell_type": "code",
   "execution_count": 5,
   "id": "b702f08db7294a52",
   "metadata": {
    "ExecuteTime": {
     "end_time": "2024-08-18T11:30:15.156599Z",
     "start_time": "2024-08-18T11:30:13.911165Z"
    }
   },
   "outputs": [],
   "source": [
    "from langchain_community.agent_toolkits.load_tools import load_tools\n",
    "tools = load_tools([\"serpapi\", \"llm-math\"], llm)\n"
   ]
  },
  {
   "cell_type": "code",
   "execution_count": 6,
   "id": "ff7492ed",
   "metadata": {},
   "outputs": [
    {
     "data": {
      "text/plain": [
       "[Tool(name='Search', description='A search engine. Useful for when you need to answer questions about current events. Input should be a search query.', func=<bound method SerpAPIWrapper.run of SerpAPIWrapper(search_engine=<class 'serpapi.google_search.GoogleSearch'>, params={'engine': 'google', 'google_domain': 'google.com', 'gl': 'us', 'hl': 'en'}, serpapi_api_key='fce7d0f24d2df568374ffd8a8eefbb2f368c71ba2ae7ff6e98d29733d2ebc8af', aiosession=None)>, coroutine=<bound method SerpAPIWrapper.arun of SerpAPIWrapper(search_engine=<class 'serpapi.google_search.GoogleSearch'>, params={'engine': 'google', 'google_domain': 'google.com', 'gl': 'us', 'hl': 'en'}, serpapi_api_key='fce7d0f24d2df568374ffd8a8eefbb2f368c71ba2ae7ff6e98d29733d2ebc8af', aiosession=None)>),\n",
       " Tool(name='Calculator', description='Useful for when you need to answer questions about math.', func=<bound method Chain.run of LLMMathChain(llm_chain=LLMChain(prompt=PromptTemplate(input_variables=['question'], template='Translate a math problem into a expression that can be executed using Python\\'s numexpr library. Use the output of running this code to answer the question.\\n\\nQuestion: ${{Question with math problem.}}\\n```text\\n${{single line mathematical expression that solves the problem}}\\n```\\n...numexpr.evaluate(text)...\\n```output\\n${{Output of running the code}}\\n```\\nAnswer: ${{Answer}}\\n\\nBegin.\\n\\nQuestion: What is 37593 * 67?\\n```text\\n37593 * 67\\n```\\n...numexpr.evaluate(\"37593 * 67\")...\\n```output\\n2518731\\n```\\nAnswer: 2518731\\n\\nQuestion: 37593^(1/5)\\n```text\\n37593**(1/5)\\n```\\n...numexpr.evaluate(\"37593**(1/5)\")...\\n```output\\n8.222831614237718\\n```\\nAnswer: 8.222831614237718\\n\\nQuestion: {question}\\n'), llm=ChatTongyi(client=<class 'dashscope.aigc.generation.Generation'>, dashscope_api_key=SecretStr('**********'))))>, coroutine=<bound method Chain.arun of LLMMathChain(llm_chain=LLMChain(prompt=PromptTemplate(input_variables=['question'], template='Translate a math problem into a expression that can be executed using Python\\'s numexpr library. Use the output of running this code to answer the question.\\n\\nQuestion: ${{Question with math problem.}}\\n```text\\n${{single line mathematical expression that solves the problem}}\\n```\\n...numexpr.evaluate(text)...\\n```output\\n${{Output of running the code}}\\n```\\nAnswer: ${{Answer}}\\n\\nBegin.\\n\\nQuestion: What is 37593 * 67?\\n```text\\n37593 * 67\\n```\\n...numexpr.evaluate(\"37593 * 67\")...\\n```output\\n2518731\\n```\\nAnswer: 2518731\\n\\nQuestion: 37593^(1/5)\\n```text\\n37593**(1/5)\\n```\\n...numexpr.evaluate(\"37593**(1/5)\")...\\n```output\\n8.222831614237718\\n```\\nAnswer: 8.222831614237718\\n\\nQuestion: {question}\\n'), llm=ChatTongyi(client=<class 'dashscope.aigc.generation.Generation'>, dashscope_api_key=SecretStr('**********'))))>)]"
      ]
     },
     "execution_count": 6,
     "metadata": {},
     "output_type": "execute_result"
    }
   ],
   "source": [
    "tools"
   ]
  },
  {
   "cell_type": "markdown",
   "id": "ce188dabd3ad0afb",
   "metadata": {},
   "source": [
    "## 定义Agent"
   ]
  },
  {
   "cell_type": "code",
   "execution_count": 7,
   "id": "faaf92eae3ba74a2",
   "metadata": {
    "ExecuteTime": {
     "end_time": "2024-08-18T11:30:24.780309Z",
     "start_time": "2024-08-18T11:30:24.768685Z"
    }
   },
   "outputs": [
    {
     "name": "stderr",
     "output_type": "stream",
     "text": [
      "e:\\AAAAWork\\python\\LLM_RAG\\demo\\lib\\site-packages\\langchain_core\\_api\\deprecation.py:141: LangChainDeprecationWarning: The function `initialize_agent` was deprecated in LangChain 0.1.0 and will be removed in 1.0. Use Use new agent constructor methods like create_react_agent, create_json_agent, create_structured_chat_agent, etc. instead.\n",
      "  warn_deprecated(\n"
     ]
    }
   ],
   "source": [
    "#定义agent, 使用小样本增强生成类型\n",
    "from langchain.agents import initialize_agent\n",
    "from langchain.agents import AgentType\n",
    "\n",
    "agent = initialize_agent(\n",
    "    tools=tools,\n",
    "    llm=llm,\n",
    "    agent=AgentType.ZERO_SHOT_REACT_DESCRIPTION,  # 此处有不同类型\n",
    "    verbose=True\n",
    ")"
   ]
  },
  {
   "cell_type": "code",
   "execution_count": 8,
   "id": "b38c51ba1e36ee17",
   "metadata": {
    "ExecuteTime": {
     "end_time": "2024-08-18T11:30:57.700932Z",
     "start_time": "2024-08-18T11:30:50.804880Z"
    }
   },
   "outputs": [
    {
     "name": "stderr",
     "output_type": "stream",
     "text": [
      "e:\\AAAAWork\\python\\LLM_RAG\\demo\\lib\\site-packages\\langchain_core\\_api\\deprecation.py:141: LangChainDeprecationWarning: The method `Chain.run` was deprecated in langchain 0.1.0 and will be removed in 1.0. Use invoke instead.\n",
      "  warn_deprecated(\n"
     ]
    },
    {
     "name": "stdout",
     "output_type": "stream",
     "text": [
      "\n",
      "\n",
      "\u001b[1m> Entering new AgentExecutor chain...\u001b[0m\n",
      "\u001b[32;1m\u001b[1;3m我需要先找到现任美国总统的名字，然后计算他的年龄的平方。\n",
      "Action: Search\n",
      "Action Input: \"现任美国总统\"\u001b[0m\n",
      "Observation: \u001b[36;1m\u001b[1;3mJoe Biden\u001b[0m\n",
      "Thought:\u001b[32;1m\u001b[1;3m我找到了答案，现任美国总统是Joe Biden。现在我需要计算他的年龄的平方。\n",
      "Action: Calculator\n",
      "Action Input: 78**2\u001b[0m\n",
      "Observation: \u001b[33;1m\u001b[1;3mAnswer: 6084\u001b[0m\n",
      "Thought:\u001b[32;1m\u001b[1;3m我已计算出结果。\n",
      "Final Answer: 现任美国总统是Joe Biden，他的年龄的平方是6084。\u001b[0m\n",
      "\n",
      "\u001b[1m> Finished chain.\u001b[0m\n"
     ]
    },
    {
     "data": {
      "text/plain": [
       "'现任美国总统是Joe Biden，他的年龄的平方是6084。'"
      ]
     },
     "execution_count": 8,
     "metadata": {},
     "output_type": "execute_result"
    }
   ],
   "source": [
    "agent.run(\"现任美国总统是谁？他的年龄的平方是多少？\")"
   ]
  }
 ],
 "metadata": {
  "kernelspec": {
   "display_name": "Python 3",
   "language": "python",
   "name": "python3"
  },
  "language_info": {
   "codemirror_mode": {
    "name": "ipython",
    "version": 3
   },
   "file_extension": ".py",
   "mimetype": "text/x-python",
   "name": "python",
   "nbconvert_exporter": "python",
   "pygments_lexer": "ipython3",
   "version": "3.10.3"
  }
 },
 "nbformat": 4,
 "nbformat_minor": 5
}
